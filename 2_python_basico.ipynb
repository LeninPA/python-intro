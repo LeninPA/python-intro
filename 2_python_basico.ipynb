{
 "cells": [
  {
   "cell_type": "markdown",
   "id": "d5af78b9",
   "metadata": {},
   "source": [
    "# Python básico desde 0 Prt. III"
   ]
  },
  {
   "cell_type": "markdown",
   "id": "0d645c1d",
   "metadata": {},
   "source": [
    "#### Por: López Díaz Linda"
   ]
  },
  {
   "cell_type": "markdown",
   "id": "f77f9d18",
   "metadata": {},
   "source": [
    "Del glosario podemos rescatar algo que se llama \"algoritmo\". Definimos a un algoritmo como n procedimiento que describe de manera inequívoca una serie finita de pasos a seguir en un orden determinado. Su finalidad es implantar un procedimiento para resolver un problema o aproximar una posible solución."
   ]
  },
  {
   "cell_type": "markdown",
   "id": "b8047e52",
   "metadata": {},
   "source": [
    "Entonces podemos por ejemplo definir el siguiente algoritmo:"
   ]
  },
  {
   "cell_type": "markdown",
   "id": "a568875a",
   "metadata": {},
   "source": [
    "*Algoritmo*\n",
    "1. Pedir el valor de $a$ y $b$ (dígase que son de tipo flotante).\n",
    "2. Calcular el valor de $x$ como $\\frac{-b}{a}$\n",
    "3. Mostrar en pantalla el valor de $x$"
   ]
  },
  {
   "cell_type": "markdown",
   "id": "c0de0c92",
   "metadata": {},
   "source": [
    "Este algoritmo es de hecho, la base para un programa para resolver cualquier ecuación de primer grado de la forma\n",
    "\\begin{equation}\n",
    "ax+b=0\n",
    "\\end{equation}\n",
    "donde $x$ es la incógnita."
   ]
  },
  {
   "cell_type": "markdown",
   "id": "760dc7f6",
   "metadata": {},
   "source": [
    "Escribimos usando tipos conocidos:"
   ]
  },
  {
   "cell_type": "code",
   "execution_count": null,
   "id": "0bea77ad",
   "metadata": {},
   "outputs": [],
   "source": [
    "a=float(input(\"Valor de a: \"))\n",
    "b=float(input(\"Valor de b: \"))\n",
    "x=-b/a\n",
    "print(\"Solucion: \",x)"
   ]
  },
  {
   "cell_type": "markdown",
   "id": "befbeb2a",
   "metadata": {},
   "source": [
    "El programa no funciona bien cuando $a$ vale $0$, se produce un error de división entre cero. Para evitar la división entre cero, pondremos un condicional, el cual excluirá el caso en que a=0."
   ]
  },
  {
   "cell_type": "code",
   "execution_count": null,
   "id": "ec31236e",
   "metadata": {
    "scrolled": true
   },
   "outputs": [],
   "source": [
    "a=float(input(\"Valor de a: \"))\n",
    "b=float(input(\"Valor de b: \"))\n",
    "if a!=0:   \n",
    "    x=-float(b)/a\n",
    "    print(\"Solucion: \",x)\n",
    "if a==0: \n",
    "    print(\"Sin solución\")"
   ]
  },
  {
   "cell_type": "markdown",
   "id": "5d8c9e4f",
   "metadata": {},
   "source": [
    "## Anidación"
   ]
  },
  {
   "cell_type": "markdown",
   "id": "57cb115a",
   "metadata": {},
   "source": [
    "Las estructuras de control pueden anidarse, es decir, aparecer unas dentro de otra."
   ]
  },
  {
   "cell_type": "code",
   "execution_count": null,
   "id": "df62addc",
   "metadata": {
    "scrolled": true
   },
   "outputs": [],
   "source": [
    "a=float(input(\"Valor de a: \"))\n",
    "b=float(input(\"Valor de b: \"))\n",
    "\n",
    "if a!=0:\n",
    "    x=-float(b)/a\n",
    "    print (\"Solución: \",x)\n",
    "if a==0:\n",
    "    if b!=0:\n",
    "        print (\"Sin solución\")\n",
    "    if b==0:\n",
    "        print (\"Infinitas soluciones\")"
   ]
  },
  {
   "cell_type": "markdown",
   "id": "80e23bfa",
   "metadata": {},
   "source": [
    "Es importante que recordemos la identación en Python determina de que sentencia depende cada bloque de sentencias"
   ]
  },
  {
   "cell_type": "markdown",
   "id": "efcd5053",
   "metadata": {},
   "source": [
    "## Programas usando if, else, elif "
   ]
  },
  {
   "cell_type": "markdown",
   "id": "07cf9234",
   "metadata": {},
   "source": [
    "Los lenguajes de programación tienen elementos básicos que se utilizan como bloques constructivos, así como reglas para las que esos elementos se combinan. Sólo las instrucciones sintácticas correctas pueden ser interpretadas por la computadora y los programas que contengan errores de sintaxis son rechazados por la máquina."
   ]
  },
  {
   "cell_type": "markdown",
   "id": "78f2b7cf",
   "metadata": {},
   "source": [
    "### Chicharronera"
   ]
  },
  {
   "cell_type": "markdown",
   "id": "022d3a2f",
   "metadata": {},
   "source": [
    "Programa para resolver ecuaciones de segundo grado de la forma\n",
    "\n",
    "\\begin{equation}\n",
    " ax^{2} + bx+c=0\n",
    "\\end{equation}"
   ]
  },
  {
   "cell_type": "markdown",
   "id": "ed54a8da",
   "metadata": {},
   "source": [
    "Practicamente para poder sacar los valores de $x$. Dichos valores estan dados por:\n",
    "\n",
    "\\begin{equation} \n",
    "x_1=\\frac{-b+\\sqrt{b^{2}-4ac}}{2a} \\qquad\n",
    "x_2=\\frac{-b-\\sqrt{b^{2}-4ac}}{2a}\n",
    "\\end{equation}"
   ]
  },
  {
   "cell_type": "code",
   "execution_count": null,
   "id": "21a461c7",
   "metadata": {},
   "outputs": [],
   "source": [
    "from math import *\n",
    "a=float(input(\"Valor de  a: \"))\n",
    "b=float(input(\"Valor de  b: \"))\n",
    "c=float(input(\"Valor de  c: \"))\n",
    "if a!=0:\n",
    "    x1=(-b+sqrt(b**2-4*a*c))/(2*a)\n",
    "    x2=(-b-sqrt(b**2-4*a*c))/(2*a)\n",
    "    print(\"x1 = \",x1)\n",
    "    print(\"x2 = \",x2)\n",
    "else:  # a==0 y es el caso de la ecuación lineal\n",
    "    if b!=0:\n",
    "        x=-c/b\n",
    "        print (\"Solución de la ecuación lineal es: x = \" %x)\n",
    "    else:\n",
    "        if c!=0:\n",
    "            print (\"La ecuación no tiene solución\")\n",
    "        else:\n",
    "            print (\"La ecuación tiene infinidad soluciones\")"
   ]
  },
  {
   "cell_type": "markdown",
   "id": "061ba249",
   "metadata": {},
   "source": [
    "### Par o impar"
   ]
  },
  {
   "cell_type": "code",
   "execution_count": null,
   "id": "ace5752f",
   "metadata": {
    "scrolled": true
   },
   "outputs": [],
   "source": [
    "x = input('Por fi ingresa un número')"
   ]
  },
  {
   "cell_type": "code",
   "execution_count": null,
   "id": "06c65b5c",
   "metadata": {
    "scrolled": true
   },
   "outputs": [],
   "source": [
    "numb = int(x) #Convertimos a int la string\n",
    "if numb % 2 == 0:\n",
    "    print(\"Es Par\")\n",
    "else:\n",
    "    print(\"Es impar\")"
   ]
  },
  {
   "cell_type": "markdown",
   "id": "75f44c23",
   "metadata": {},
   "source": [
    "### Precio"
   ]
  },
  {
   "cell_type": "code",
   "execution_count": null,
   "id": "e54b22d0",
   "metadata": {},
   "outputs": [],
   "source": [
    "input = input(\"Ingresa el precio\")\n",
    "precio = int(input)\n",
    "if precio > 1:\n",
    "    print(\"Mayor a $1\")\n",
    "elif precio == 1:\n",
    "    print(\"Igual a $1\")\n",
    "elif precio < 1:\n",
    "    print(\"Menor a $1\")"
   ]
  },
  {
   "cell_type": "markdown",
   "id": "fa7a6abd",
   "metadata": {},
   "source": [
    "### Precio 2"
   ]
  },
  {
   "cell_type": "code",
   "execution_count": null,
   "id": "ff4b123a",
   "metadata": {},
   "outputs": [],
   "source": [
    "pric = int (input('Ingresa precio'))\n",
    "quant = int (input('Ingresa la cantidad'))\n",
    "amount = pric * quant\n",
    "\n",
    "if amount > 100:\n",
    "    if amount > 500:\n",
    "        print(\"El monto total es mas de 500\")\n",
    "    else:\n",
    "        if amount < 500 and amount > 400:\n",
    "            print(\"El monto toal es \")\n",
    "        elif amount < 500 and amount > 300:\n",
    "            print(\"El monto esta entre 300 y 500\")\n",
    "        else:\n",
    "            print(\"el monto esta entre 200 y 500\")\n",
    "elif amount == 100:\n",
    "    print(\"El monto es 100\")\n",
    "else:\n",
    "    print(\"El monto es menos de 100\")\n"
   ]
  },
  {
   "cell_type": "markdown",
   "id": "8cedc8a8",
   "metadata": {},
   "source": [
    "### Vivir 99 años?"
   ]
  },
  {
   "cell_type": "code",
   "execution_count": null,
   "id": "9619799e",
   "metadata": {},
   "outputs": [],
   "source": [
    "a = input(\"Cual es tu edad?\")\n",
    "age = int(a)\n",
    "years_left = 99 - age\n",
    "years_left = str(years_left)\n",
    "print(\"Faltan \" + years_left + \" años para que tengas 99.\")"
   ]
  },
  {
   "cell_type": "markdown",
   "id": "e601fea9",
   "metadata": {},
   "source": [
    "### Loops"
   ]
  },
  {
   "cell_type": "markdown",
   "id": "a4f7dfe1",
   "metadata": {},
   "source": [
    "\"break\" permite salir de un bucle cuando se activa una condición externa. Se coloca break dentro del bloque de código debajo del statement de bucle, generalmente después de una condicional (por ejemplo if ).\n",
    "\n",
    "Veamos un ejemplo que usa break en un bucle for:"
   ]
  },
  {
   "cell_type": "code",
   "execution_count": null,
   "id": "3442eb0d",
   "metadata": {},
   "outputs": [],
   "source": [
    "number = 0\n",
    "\n",
    "for number in range(10):\n",
    "   number = number + 1\n",
    "\n",
    "   if number == 5:\n",
    "          # break here\n",
    "\n",
    "   print('Number is ' + str(number))\n",
    "\n",
    "print('Out of loop')"
   ]
  },
  {
   "cell_type": "markdown",
   "id": "03c5c460",
   "metadata": {},
   "source": [
    "Cuando se activa una condición externa, la declaración \"pass\" permite manejar la condición sin que el bucle se vea afectado de ninguna manera; se seguirá leyendo todo el código a menos que se produzca una interrupción u otra declaración."
   ]
  },
  {
   "cell_type": "code",
   "execution_count": null,
   "id": "8ac14b0f",
   "metadata": {},
   "outputs": [],
   "source": [
    "number = 0\n",
    "\n",
    "for number in ___ (10):\n",
    "   number = number + 1\n",
    "\n",
    "   if number == 5:\n",
    "      ____    # pass here\n",
    "\n",
    "   print('El numero es ' + ___ (number))\n",
    "\n",
    "print('Fuera del loop')"
   ]
  },
  {
   "cell_type": "markdown",
   "id": "3c1e3496-9299-4d9f-8d4f-f9775294b054",
   "metadata": {},
   "source": [
    "Recuerdan a la transpuesta de una matriz? pues bien, retomaremos la forma de calcularla"
   ]
  },
  {
   "cell_type": "code",
   "execution_count": null,
   "id": "5a9b066f-461a-44ae-a226-0cfcdc0fbd8c",
   "metadata": {},
   "outputs": [],
   "source": [
    "M = [\n",
    "    [12, 7],\n",
    "    [4, 5],\n",
    "    [3, 8]\n",
    "]\n",
    "\n",
    "# Preparamos una matriz resultante con dimensiones invertidas:\n",
    "result = [\n",
    "    [0] * len(M)  # tantos elementos como filas originales\n",
    "    for _ in range(len(M[0]))  # tantas filas como columnas originales\n",
    "]\n",
    "\n",
    "for i in range(len(M)):\n",
    "    for j in range(len(M[0])):\n",
    "        result[j][i] = M[i][j]\n",
    "\n",
    "\n",
    "#  Completa aqui para que muestre el resultado [[12, 4, 3], [7, 5, 8]]"
   ]
  },
  {
   "cell_type": "markdown",
   "id": "a6481a50",
   "metadata": {},
   "source": [
    "## Gráficas"
   ]
  },
  {
   "cell_type": "markdown",
   "id": "7f4e05ec",
   "metadata": {},
   "source": [
    "Como científicos es imperativo en algunas ocasiones tener que modelar o graficar algunos datos, para esto usaremos la libreria Matplotlib (posteriormente veremos como hacer gráficas dinámicas o con mejores visuales)."
   ]
  },
  {
   "cell_type": "code",
   "execution_count": null,
   "id": "0d4b5392",
   "metadata": {},
   "outputs": [],
   "source": [
    "import matplotlib.pyplot as plt"
   ]
  },
  {
   "cell_type": "markdown",
   "id": "a02c1bc2",
   "metadata": {},
   "source": [
    "La lógica de pasos que seguiremos para realizar nuestra gráfica en python sería la siguiente\n",
    "\n",
    "1) Importar el módulo pyplot.\n",
    "\n",
    "2) Definir la figura que contendrá el gráfico, que es la region (ventana o página) donde se dibujará y los ejes sobre los que se dibujarán los datos. Para ello se utiliza la función subplots().\n",
    "\n",
    "3) Dibujar los datos sobre los ejes. Para ello se utilizan distintas funciones dependiendo del tipo de gráfico que se quiera.\n",
    "\n",
    "4) Personalizar el gráfico. Para ello existen multitud de funciones que permiten añadir un título, una leyenda, una rejilla, cambiar colores o personalizar los ejes.\n",
    "\n",
    "5) Mostrar el gráfico. Para ello se utiliza la función show()."
   ]
  },
  {
   "cell_type": "code",
   "execution_count": null,
   "id": "bf25e608",
   "metadata": {},
   "outputs": [],
   "source": [
    "# Crear la figura\n",
    "# Dibujar puntos\n",
    "plt.scatter([0,1,2,3,4,5], [5,10,6,-10,15,1])\n",
    "#Dibujar conectar con líneas los puntos\n",
    "plt.plot([0,1,2,3,4,5], [5,10,6,-10,15,1])\n",
    "# Mostrar el gráfico\n",
    "plt.show()"
   ]
  },
  {
   "cell_type": "markdown",
   "id": "697515ac",
   "metadata": {},
   "source": [
    "Donde en la gráfica anterior nos muestra los puntos en $x$ con su correspondiente valor $y$. Un resultado un poco más trabajado se obtiene con el siguiente código:"
   ]
  },
  {
   "cell_type": "code",
   "execution_count": null,
   "id": "34819c2c",
   "metadata": {},
   "outputs": [],
   "source": [
    "plt.plot([0,1,2,3,4,5], [5,10,6,-10,15,1], 'b-o', label=\"Partícula 1\")\n",
    "#plt.scatter([0,1,2,3,4,5], [5,10,6,-10,15,1])\n",
    "plt.xlabel(\"Tiempo (s)\")\n",
    "plt.ylabel(\"Posición (m)\")\n",
    "plt.title(\"Aproximación de trayectoria\")\n",
    "plt.text(2,7,\"$ P_1 (2,6) $\", color=\"b\")\n",
    "plt.legend()\n",
    "plt.grid(color=\"lightgray\")\n",
    "plt.show()"
   ]
  },
  {
   "cell_type": "markdown",
   "id": "b512e1e0",
   "metadata": {},
   "source": [
    "Se puede observar que aquí se adicionan elementos descriptivos: etiquetas, leyendas y anotaciones, que usualmente sirven para describir completamente una información que se proporciona a través de las gráficas"
   ]
  },
  {
   "cell_type": "markdown",
   "id": "c0d3621d",
   "metadata": {},
   "source": [
    "## Graficando funciones"
   ]
  },
  {
   "cell_type": "markdown",
   "id": "739dbc5c",
   "metadata": {},
   "source": [
    "Usualmente una función matemática se puede representar mediante una gráfica en coordenadas cartesianas, colocando uno de los conjuntos en el eje horizontal y el otro en el vertical. Utilizando Python, y de manera específica la librería NumPy, se pueden evaluar las funciones matemáticas en un intervalo determinado y en una cantidad finita de puntos. Por ejemplo, suponga que se requieren calcular todos los pares ordenados correspondientes a la función 𝑦=cos𝑥\n",
    " en el intervalo $0 \\leq x \\leq 5$ , en Python se tendría que definir como:"
   ]
  },
  {
   "cell_type": "code",
   "execution_count": null,
   "id": "7381482f",
   "metadata": {},
   "outputs": [],
   "source": [
    "#Importamos la libreria Numpy\n",
    "import numpy as np\n",
    "#Creamos el espacio coordenado\n",
    "x = np.linspace(0,5)\n",
    "#Definimos la función\n",
    "y = np.cos(x)\n",
    "#Ploteamos la funcion\n",
    "plt.plot(x, y, 'purple')\n",
    "#Esto es para mostrar al rejilla\n",
    "plt.grid()\n",
    "plt.show()"
   ]
  },
  {
   "cell_type": "markdown",
   "id": "5d0ad009",
   "metadata": {},
   "source": [
    "Podemos ahora modificar el espacio de ploteo ahora de $x \\in [-10,10]$"
   ]
  },
  {
   "cell_type": "code",
   "execution_count": null,
   "id": "266f3a6b",
   "metadata": {},
   "outputs": [],
   "source": [
    "x = np.linspace(-10,10)\n",
    "y = np.cos(x)\n",
    "plt.plot(x, y, 'purple')\n",
    "plt.grid()\n",
    "plt.show()"
   ]
  },
  {
   "cell_type": "markdown",
   "id": "4ffd7654",
   "metadata": {},
   "source": [
    "De manera similar a lo anterior se procederá a definir y graficar la función  $y= e^{1/10 x}  \\cos x $ en el intervalo $0 \\leq x \\leq 30$"
   ]
  },
  {
   "cell_type": "code",
   "execution_count": null,
   "id": "83ae4eec",
   "metadata": {},
   "outputs": [],
   "source": [
    "#Creacion del espacio con la cantidad de puntos a evaluar\n",
    "x = np.linspace(0, 30,100)\n",
    "#Definimos la funcion\n",
    "y = np.exp(-0.1*x)*np.cos(x)\n",
    "#La ploteamos y modificamos el ancho de la línea y el color\n",
    "plt.plot(x,y, label='función', lw=1.7, c='darkorange')\n",
    "#Ajustes de títulos en los ejes y título general\n",
    "plt.title(\"Gráfica 3\")\n",
    "plt.xlabel(\"X\")\n",
    "plt.ylabel(\"Y\")\n",
    "plt.legend()\n",
    "#Mostramos la función\n",
    "plt.grid()\n",
    "plt.show()"
   ]
  },
  {
   "cell_type": "markdown",
   "id": "b78bf461",
   "metadata": {},
   "source": [
    "La cantidad de puntos a evaluar es una cuestión muy importante, ya que de esto depende la correcta visualización del comportamiento de una función. Naturalmente, entre más puntos evaluados mejor será la apreciación que se tenga de la curva en cuestión, pero implica un mayor gasto de memoría para guardar y evaluar todos los datos. Enseguida se muestra la misma función graficada en el mismo intervalo pero con 1000 y 5 puntos evaluados de manera respectiva, notará la diferencia entre los casos, es evidente que en el caso de los 5 puntos se pierde muchísima información."
   ]
  },
  {
   "cell_type": "markdown",
   "id": "157c330b",
   "metadata": {},
   "source": [
    "La función plot acepta argumentos adicionales que sirven para modificar y controlar las características de la línea que se grafica, i.e su ''estilo'' asi como para agregar marcadores. Utilizar keyword arguments es una manera más general de hacerlo, puesto que la definición con strings no funciona para los casos en que se requieren colores que no se pueden especificar con un sólo caracter, por ejemplo, Matplotlib dispone de un color llamado coral y este no puede ser invocado mediante un sólo caracter, hace falta escribir todo el nombre."
   ]
  },
  {
   "cell_type": "code",
   "execution_count": null,
   "id": "8a85dc0d",
   "metadata": {},
   "outputs": [],
   "source": [
    "x = np.linspace(0, 30, 100)\n",
    "y = np.exp(-0.1*x)*np.sin(x)\n",
    "plt.plot(x, y, \"-\", color=\"coral\", marker=\"*\")\n",
    "plt.grid()\n",
    "plt.show()"
   ]
  },
  {
   "cell_type": "markdown",
   "id": "8c302f4a",
   "metadata": {},
   "source": [
    "### Ejercicio: Completa el código  investigando y posteriormente escribiendo en los asteriscos  los argumentos (keywords arguments) para que la gráfica de la función definida anteriormente sea con lineas dasheadas (--), con marcador en o y en color rosa. Además de colocar una etiqueta a la función y que tenga 100 puntos a evaluar."
   ]
  },
  {
   "cell_type": "code",
   "execution_count": null,
   "id": "36cead17",
   "metadata": {},
   "outputs": [],
   "source": [
    "x = np.linspace(0, 30, ##)\n",
    "y = np.exp(-0.1*x)*np.sin(x)\n",
    "plt.plot(x, y, ##='#' , ##='#', ##='#', ##='##')\n",
    "plt.legend()\n",
    "plt.grid()\n",
    "plt.show()"
   ]
  },
  {
   "cell_type": "markdown",
   "id": "93952101",
   "metadata": {},
   "source": [
    "Sabemos que habitualmente las funciones en coordenadas polares tienen la forma $r= f(\\theta)$ .\n",
    "En Matplotlib se dispone de la función polar, la cual traza una gráfica en coordenadas polares, dados como argumentos tanto la variable independiente $\\theta$ como la función 𝑟. \n",
    "\n",
    "Entonces usaremos lo que hemos visto anteriormente para graficar la tan conocida rosa polar, cuya ecuación general está dada por:\n",
    "\n",
    "$$ r= a \\cos (k\\theta+ \\phi_0)$$\n"
   ]
  },
  {
   "cell_type": "code",
   "execution_count": null,
   "id": "3cf26837",
   "metadata": {},
   "outputs": [],
   "source": [
    "theta = np.linspace(0, 2*np.pi, 1500)\n",
    "a,k,phi0 = 5,7,0\n",
    "r = a*np.cos(k*theta + phi0)\n",
    "plt.polar(theta, r, \"orchid\")\n",
    "plt.show()"
   ]
  },
  {
   "cell_type": "markdown",
   "id": "faa8dbe2",
   "metadata": {},
   "source": [
    "### Multiples ejes"
   ]
  },
  {
   "cell_type": "markdown",
   "id": "1b99ae26",
   "metadata": {},
   "source": [
    "A veces queremos graficar dos cosas para compararlas a la vez. Para esto usaremos función subplot, que sirve para insertar axes en un figure organizados de una manera predefinida, usualmente una cuadrícula de $m$ filas y $n$ columnas. En cada uno de esos axes se pueden colocar información por separado.\n",
    "\n",
    "Por ejemplo para crear dos axes apilados de forma vertical y graficar $\\cos^2 x$ y $\\sin(2x)$ en cada uno scribiriamos un código similar:"
   ]
  },
  {
   "cell_type": "code",
   "execution_count": null,
   "id": "7dd7a7eb",
   "metadata": {},
   "outputs": [],
   "source": [
    "x = np.linspace(-10,10,100)\n",
    "y1 = np.cos(x)* np.cos(x)\n",
    "y2 = np.sin(2*x)\n",
    "\n",
    "plt.subplot(211)\n",
    "plt.plot(x, y1, \"hotpink\")\n",
    "plt.grid()\n",
    "plt.show()\n",
    "\n",
    "plt.subplot(212)\n",
    "plt.plot(x, y2, \"green\")\n",
    "plt.grid()\n",
    "plt.show()"
   ]
  },
  {
   "cell_type": "markdown",
   "id": "c303a5a0",
   "metadata": {},
   "source": [
    " Teniendo además que se pueden colocar etiquetas por separado a cada uno de los axes insertado mediante subplot."
   ]
  },
  {
   "cell_type": "code",
   "execution_count": null,
   "id": "ae57672c",
   "metadata": {
    "scrolled": true
   },
   "outputs": [],
   "source": [
    "x = np.linspace(-10,10,100)\n",
    "y1 = np.cos(x)* np.cos(x)\n",
    "y2 = np.sin(2*x)\n",
    "\n",
    "plt.subplot(211)\n",
    "plt.plot(x, y1, \"hotpink\")\n",
    "plt.grid()\n",
    "plt.xlabel(\"x\")\n",
    "plt.ylabel(\"y\")\n",
    "plt.title('$\\cos^2(x)$')\n",
    "plt.show()\n",
    "\n",
    "plt.subplot(212)\n",
    "plt.plot(x, y2, \"green\")\n",
    "plt.grid()\n",
    "plt.xlabel(\"x\")\n",
    "plt.ylabel(\"y\")\n",
    "plt.title('$\\sin(2x)$')\n",
    "plt.show()"
   ]
  },
  {
   "cell_type": "markdown",
   "id": "a21c3103",
   "metadata": {},
   "source": [
    "### Ejercicio: Similar al ejemplo anterior, crea una grafica con subplots para dos discos en coordenadas poalres. Completa el código con los valores, funciones y variables faltantes"
   ]
  },
  {
   "cell_type": "markdown",
   "id": "d7e03886",
   "metadata": {},
   "source": [
    "Recordando que una elipse es el lugar geométrico de un punto que se mueve en un plano tal que la suma de sus distancias a otros dos puntos (los focos) es constante. Aquí, r se define como:\n",
    "\n",
    "$$r\\ =\\ \\frac{a\\ *\\ b}{\\sqrt{(a \\sin \\theta)^2\\ +\\ (b \\cos\\theta)^2}}$$\n",
    "\n",
    "Dónde,\n",
    "\n",
    "a = longitud del semieje mayor\n",
    "\n",
    "b = longitud del semieje menor"
   ]
  },
  {
   "cell_type": "markdown",
   "id": "e239dda5",
   "metadata": {},
   "source": [
    "Trasladaremos este conocimiento a coordenadas polares. Grafica dos discos (elipses proyectadas) tal que la longitud del semi eje mayor de una sea la del semi eje menor de otra."
   ]
  },
  {
   "cell_type": "code",
   "execution_count": null,
   "id": "7f52c608",
   "metadata": {},
   "outputs": [],
   "source": [
    "## CODIGO AQUI\n",
    "\n",
    "radianes = np.##completa##(0, 2*np.pi, 100)\n",
    "a1,b1 = ##completa##,##completa##\n",
    "a2,b2 = ##completa##,##completa##\n",
    "r1 = (a1*b1)/np.sqrt((a1*np.sin(rad))**2 + (b1*np.cos(rad))**2)\n",
    "r2 = ##completa## /np.sqrt((a2*np.sin(rad))**2 + ##completa##\n",
    "\n",
    "plt.subplot(121, projection='polar')\n",
    "plt.polar(rad, r1, color='##completa##')\n",
    "plt.title('Ellipse 1')\n",
    "plt.show()\n",
    "\n",
    "plt.subplot(122, projection='polar')\n",
    "plt.polar(rad, r2, color='##completa##'')\n",
    "plt.title('Ellipse 2')\n",
    "plt.show()"
   ]
  },
  {
   "cell_type": "markdown",
   "id": "50cf0d62",
   "metadata": {},
   "source": [
    "### Gráficas de curvas paramétricas en el espacio"
   ]
  },
  {
   "cell_type": "markdown",
   "id": "32cbca78",
   "metadata": {},
   "source": [
    "Una función vectorial de la forma:\n",
    "$$\n",
    "\\vec{r}(t)=\\left[\\begin{array}{l}\n",
    "x(t) \\\\\n",
    "y(t) \\\\\n",
    "z(t)\n",
    "\\end{array}\\right]\n",
    "$$\n",
    "\n",
    "Se dice que es una función parámetrica, siendo $t$ en este caso el parámetro correspondiente. Una función vectorial de este tipo tiene una curva en el espacio asociada como representación gráfica. Es muy común trabajar con este tipo de expresiones en el análisis cinemático de partículas.\n",
    "Supongamos que queremos graficar la función vectorial:\n",
    "\n",
    "$$\n",
    "\\vec{r}(t)=\\left[\\begin{array}{c}\n",
    "\\cos (t) \\\\\n",
    "\\sin (t) \\\\\n",
    "t\n",
    "\\end{array}\\right]\n",
    "$$\n",
    "\n",
    "En el intervalo $0 \\leq t \\leq 4 \\pi$. Para ello en Python haríamos lo siguiente:"
   ]
  },
  {
   "cell_type": "code",
   "execution_count": null,
   "id": "6776b6af",
   "metadata": {},
   "outputs": [],
   "source": [
    "from mpl_toolkits.mplot3d import Axes3D\n",
    "\n",
    "fig = plt.figure()\n",
    "ax = fig.add_subplot(111, projection=\"3d\")\n",
    "\n",
    "t = np.linspace(0, 4*np.pi, 100)\n",
    "x = np.cos(t)\n",
    "y = np.sin(t)\n",
    "z = t\n",
    "\n",
    "ax.plot(x, y, z)\n",
    "plt.show()"
   ]
  },
  {
   "cell_type": "markdown",
   "id": "61b8512a",
   "metadata": {},
   "source": [
    "Observemos que en la primera línea importamos la clase Axes3D del módulo mpl_toolkits.maplot3d, esto nos sirve para poder trabajar con gráficas tridimensionales. Luego, definimos un objeto de la clase Figure y lo asignamos a la variable fig, al objeto fig le añadimos un Axes mediante el método add_subplot, indicando que en dicho axes se utilizarán las proyecciones espaciales mediante el keyword argument projection. Las siguientes cuatro líneas definen las ecuaciones parámetricas. Y finalmente, con el método plot del objeto ax trazamos la gráfica de la curva tridimensional, note que en este caso el método plot, recibe al menos tres argumentos: las coordenadas en x, y, z.\n",
    "\n",
    "\n",
    "Ahora, manipularemos un poco las características."
   ]
  },
  {
   "cell_type": "code",
   "execution_count": null,
   "id": "878dbb07",
   "metadata": {},
   "outputs": [],
   "source": [
    "fig = plt.figure()\n",
    "ax = fig.add_subplot(111, projection=\"3d\")\n",
    "\n",
    "t = np.linspace(0, 4*np.pi, 100)\n",
    "x = np.cos(t)\n",
    "y = np.sin(t)\n",
    "z = t\n",
    "\n",
    "ax.plot(x, y, z, color=\"r\", linewidth=3)\n",
    "xticks = ax.get_xticks()\n",
    "yticks = ax.get_yticks()\n",
    "ax.set_xticks(xticks[::3])\n",
    "ax.set_yticks(yticks[::3])\n",
    "ax.set_xlabel(\"X\")\n",
    "ax.set_ylabel(\"Y\")\n",
    "ax.set_zlabel(\"Z\")\n",
    "plt.show()"
   ]
  },
  {
   "cell_type": "markdown",
   "id": "177a34f7",
   "metadata": {},
   "source": [
    "### Graficas de superficies"
   ]
  },
  {
   "cell_type": "markdown",
   "id": "a43afd9e",
   "metadata": {},
   "source": [
    "Las gráficas de superficies se utilizan para representar de manera gráfica una función bivariable en el espacio. El procedimiento de graficado para una función de dos variables $$z=f(x,y)$$\n",
    "Esto mplica que se tendría que evaluar dicha función en una región delimitada por ciertos valores para las dos variables independientes. Para poder realizar esto de forma muy conveniente, la librería NumPy proporciona una función llamada meshgrid, la cual puede crear una rejilla bidimensional a partir de una lista de valores para cada variable independiente, por ejemplo:"
   ]
  },
  {
   "cell_type": "code",
   "execution_count": null,
   "id": "7a46310c",
   "metadata": {},
   "outputs": [],
   "source": [
    "x = [0,1]\n",
    "y = [10,20]\n",
    "X,Y = np.meshgrid(x,y)\n",
    "print(X,Y, sep=\"\\n\\n\")"
   ]
  },
  {
   "cell_type": "markdown",
   "id": "5235512d",
   "metadata": {},
   "source": [
    "Observemos que los puntos a evaluar en este caso serán (0,10),(0,20),(1,10),(1,20). La densidad de la rejilla (o el número de puntos a evaluar) depende de la cantidad de valores que contengan los vectores que se le pasen como argumentos a la función meshgrid, por ejemplo:"
   ]
  },
  {
   "cell_type": "code",
   "execution_count": null,
   "id": "3ab77a9e",
   "metadata": {},
   "outputs": [],
   "source": [
    "x = [0,0.5,1]\n",
    "y = [10,15,20]\n",
    "X,Y = np.meshgrid(x,y)\n",
    "plt.grid()\n",
    "plt.plot(X, Y, \"o\");"
   ]
  },
  {
   "cell_type": "markdown",
   "id": "cc51da22",
   "metadata": {},
   "source": [
    "A continuación se muestra el código para graficar la superficie de la función $𝑧=𝑥^2+𝑦^2$, evaluada en la región $𝑅={(𝑥,𝑦)|−5\\leq 𝑥  \\leq 5,−5\\leq 𝑦 \\leq 5}$.\n",
    "\n"
   ]
  },
  {
   "cell_type": "code",
   "execution_count": null,
   "id": "0cfb2a5b",
   "metadata": {
    "scrolled": true
   },
   "outputs": [],
   "source": [
    "fig = plt.figure()\n",
    "ax = fig.add_subplot(111, projection=\"3d\")\n",
    "\n",
    "x = np.linspace(-5,5)\n",
    "y = np.linspace(-5,5)\n",
    "X,Y = np.meshgrid(x,y)\n",
    "Z = X**2 + Y**2\n",
    "\n",
    "ax.plot_surface(X, Y, Z, cmap=\"plasma\")\n",
    "plt.show()"
   ]
  },
  {
   "cell_type": "markdown",
   "id": "4e55d67d",
   "metadata": {},
   "source": [
    "### Ejercicio: Similar al ejemplo anterior,  grafica la función $𝑧=\\cos(𝑥)+\\sin(𝑦)$ , evaluada en la región $𝑅={(𝑥,𝑦)|0\\leq 𝑥\\leq 3𝜋,0\\leq 𝑦\\leq 3\\pi}$"
   ]
  },
  {
   "cell_type": "code",
   "execution_count": null,
   "id": "fc6c0951",
   "metadata": {},
   "outputs": [],
   "source": [
    "## Codigo aqui\n",
    "\n",
    "fig = plt.figure()\n",
    "ax = fig.add_subplot(111, projection=\"3d\")\n",
    "\n",
    "x = np.linspace(##completa##, ##completa##)\n",
    "y = np.linspace(##completa##, ##completa##)\n",
    "X,Y = np.meshgrid(x,y)\n",
    "Z = ##completa## + ##completa##\n",
    "\n",
    "ax.plot_surface(X, Y, Z, cmap=\"inferno\")\n",
    "plt.show()\n",
    "    "
   ]
  },
  {
   "cell_type": "markdown",
   "id": "8229f4a4",
   "metadata": {},
   "source": [
    "# Felicidades, acabaste el tercer notebook :D"
   ]
  },
  {
   "cell_type": "code",
   "execution_count": null,
   "id": "059ed3fd",
   "metadata": {},
   "outputs": [],
   "source": []
  }
 ],
 "metadata": {
  "kernelspec": {
   "display_name": "Python 3 (ipykernel)",
   "language": "python",
   "name": "python3"
  },
  "language_info": {
   "codemirror_mode": {
    "name": "ipython",
    "version": 3
   },
   "file_extension": ".py",
   "mimetype": "text/x-python",
   "name": "python",
   "nbconvert_exporter": "python",
   "pygments_lexer": "ipython3",
   "version": "3.8.20"
  },
  "toc": {
   "base_numbering": 1,
   "nav_menu": {
    "height": "268.999px",
    "width": "335.994px"
   },
   "number_sections": true,
   "sideBar": true,
   "skip_h1_title": false,
   "title_cell": "Table of Contents",
   "title_sidebar": "Contents",
   "toc_cell": false,
   "toc_position": {},
   "toc_section_display": true,
   "toc_window_display": false
  }
 },
 "nbformat": 4,
 "nbformat_minor": 5
}
